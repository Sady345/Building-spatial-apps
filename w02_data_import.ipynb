{
  "cells": [
    {
      "cell_type": "markdown",
      "metadata": {
        "id": "view-in-github",
        "colab_type": "text"
      },
      "source": [
        "<a href=\"https://colab.research.google.com/github/Sady345/Building-spatial-apps/blob/main/w02_data_import.ipynb\" target=\"_parent\"><img src=\"https://colab.research.google.com/assets/colab-badge.svg\" alt=\"Open In Colab\"/></a>"
      ]
    },
    {
      "cell_type": "markdown",
      "metadata": {
        "id": "0uVt78O8dVRK"
      },
      "source": [
        "# Data Import\n",
        "\n",
        "## Introduction\n",
        "\n",
        "This notebook shows how to import data into a DuckDB database. It uses the `duckdb` Python package to connect to a DuckDB database and import data from various formats, including CSV, JSON, DataFrame, parquet, GeoJSON, Shapefile, GeoParquet, and more.\n",
        "\n",
        "## Datasets\n",
        "\n",
        "The following datasets are used in this notebook. You don't need to download them, they can be accessed directly from the notebook.\n",
        "\n",
        "- [cities.csv](https://open.gishub.org/data/duckdb/cities.csv)\n",
        "- [countries.csv](https://open.gishub.org/data/duckdb/countries.csv)\n",
        "\n",
        "## Installation\n",
        "\n",
        "Uncomment the following cell to install the required packages if needed."
      ]
    },
    {
      "cell_type": "code",
      "execution_count": null,
      "metadata": {
        "id": "TGpqxNmjdVRM"
      },
      "outputs": [],
      "source": [
        "# %pip install duckdb leafmap"
      ]
    },
    {
      "cell_type": "markdown",
      "metadata": {
        "id": "q7QkTMFrdVRN"
      },
      "source": [
        "## Library Import"
      ]
    },
    {
      "cell_type": "code",
      "execution_count": null,
      "metadata": {
        "id": "4yO-G08EdVRN"
      },
      "outputs": [],
      "source": [
        "import duckdb\n",
        "import leafmap\n",
        "import pandas as pd"
      ]
    },
    {
      "cell_type": "markdown",
      "metadata": {
        "id": "6jj80IvtdVRN"
      },
      "source": [
        "## Installing Extensions\n",
        "\n",
        "DuckDB’s Python API provides functions for installing and loading extensions, which perform the equivalent operations to running the `INSTALL` and `LOAD` SQL commands, respectively. An example that installs and loads the [httpfs extension](https://duckdb.org/docs/extensions/httpfs) looks like follows:"
      ]
    },
    {
      "cell_type": "code",
      "execution_count": null,
      "metadata": {
        "id": "PbXrMe8ddVRO"
      },
      "outputs": [],
      "source": [
        "con = duckdb.connect()"
      ]
    },
    {
      "cell_type": "code",
      "execution_count": null,
      "metadata": {
        "id": "BLsCnOvVdVRO"
      },
      "outputs": [],
      "source": [
        "con.install_extension(\"httpfs\")\n",
        "con.load_extension(\"httpfs\")"
      ]
    },
    {
      "cell_type": "code",
      "execution_count": null,
      "metadata": {
        "id": "Dod-phOWdVRO"
      },
      "outputs": [],
      "source": [
        "con.install_extension(\"spatial\")\n",
        "con.load_extension(\"spatial\")"
      ]
    },
    {
      "cell_type": "markdown",
      "metadata": {
        "id": "SvnEqSLTdVRO"
      },
      "source": [
        "## Downloading Sample Data"
      ]
    },
    {
      "cell_type": "code",
      "execution_count": null,
      "metadata": {
        "id": "094mRqpldVRP"
      },
      "outputs": [],
      "source": [
        "url = \"https://open.gishub.org/data/duckdb/cities.zip\"\n",
        "leafmap.download_file(url, unzip=True)"
      ]
    },
    {
      "cell_type": "markdown",
      "metadata": {
        "id": "eK2kT4P2dVRP"
      },
      "source": [
        "## CSV Files\n",
        "\n",
        "CSV files can be read using the `read_csv` function, called either from within Python or directly from within SQL. By default, the `read_csv` function attempts to auto-detect the CSV settings by sampling from the provided file."
      ]
    },
    {
      "cell_type": "code",
      "execution_count": null,
      "metadata": {
        "id": "y6_Nkv9OdVRP"
      },
      "outputs": [],
      "source": [
        "# read from a file using fully auto-detected settings\n",
        "con.read_csv('cities.csv')"
      ]
    },
    {
      "cell_type": "code",
      "execution_count": null,
      "metadata": {
        "id": "0TgFVMwOdVRP"
      },
      "outputs": [],
      "source": [
        "# specify options on how the CSV is formatted internally\n",
        "con.read_csv('cities.csv', header=True, sep=',')"
      ]
    },
    {
      "cell_type": "code",
      "execution_count": null,
      "metadata": {
        "id": "mxt7rVOXdVRP"
      },
      "outputs": [],
      "source": [
        "# use the (experimental) parallel CSV reader\n",
        "con.read_csv('cities.csv', parallel=True)"
      ]
    },
    {
      "cell_type": "code",
      "execution_count": null,
      "metadata": {
        "id": "WuJudkfldVRQ"
      },
      "outputs": [],
      "source": [
        "# directly read a CSV file from within SQL\n",
        "con.sql(\"SELECT * FROM 'cities.csv'\")"
      ]
    },
    {
      "cell_type": "code",
      "execution_count": null,
      "metadata": {
        "id": "hPhsSApEdVRQ"
      },
      "outputs": [],
      "source": [
        "# call read_csv from within SQL\n",
        "con.sql(\"SELECT * FROM read_csv_auto('cities.csv')\")"
      ]
    },
    {
      "cell_type": "markdown",
      "metadata": {
        "id": "CFKpeAewdVRQ"
      },
      "source": [
        "## JSON Files\n",
        "\n",
        "JSON files can be read using the `read_json` function, called either from within Python or directly from within SQL. By default, the `read_json` function will automatically detect if a file contains newline-delimited JSON or regular JSON, and will detect the schema of the objects stored within the JSON file."
      ]
    },
    {
      "cell_type": "code",
      "execution_count": null,
      "metadata": {
        "id": "fg3Fac0XdVRQ"
      },
      "outputs": [],
      "source": [
        "# read from a single JSON file\n",
        "con.read_json('cities.json')"
      ]
    },
    {
      "cell_type": "code",
      "execution_count": null,
      "metadata": {
        "id": "lOa2LLijdVRQ"
      },
      "outputs": [],
      "source": [
        "# directly read a JSON file from within SQL\n",
        "con.sql(\"SELECT * FROM 'cities.json'\")"
      ]
    },
    {
      "cell_type": "code",
      "execution_count": null,
      "metadata": {
        "id": "7Q_2WmOidVRQ"
      },
      "outputs": [],
      "source": [
        "# call read_json from within SQL\n",
        "con.sql(\"SELECT * FROM read_json_auto('cities.json')\")"
      ]
    },
    {
      "cell_type": "markdown",
      "metadata": {
        "id": "UVH58K3mdVRQ"
      },
      "source": [
        "## DataFrames\n",
        "\n",
        "DuckDB is automatically able to query a Pandas DataFrame."
      ]
    },
    {
      "cell_type": "code",
      "execution_count": null,
      "metadata": {
        "id": "bXVRBVaQdVRQ"
      },
      "outputs": [],
      "source": [
        "df = pd.read_csv('cities.csv')\n",
        "df"
      ]
    },
    {
      "cell_type": "code",
      "execution_count": null,
      "metadata": {
        "id": "DQWsJiUcdVRQ"
      },
      "outputs": [],
      "source": [
        "con.sql('SELECT * FROM df').fetchall()"
      ]
    },
    {
      "cell_type": "markdown",
      "metadata": {
        "id": "ceMKGbl1dVRQ"
      },
      "source": [
        "## Parquet Files\n",
        "\n",
        "Parquet files can be read using the `read_parquet` function, called either from within Python or directly from within SQL."
      ]
    },
    {
      "cell_type": "code",
      "execution_count": null,
      "metadata": {
        "id": "q70zVsqDdVRQ"
      },
      "outputs": [],
      "source": [
        "# read from a single Parquet file\n",
        "con.read_parquet('cities.parquet')"
      ]
    },
    {
      "cell_type": "code",
      "execution_count": null,
      "metadata": {
        "id": "XJ_QG4AzdVRQ"
      },
      "outputs": [],
      "source": [
        "# directly read a Parquet file from within SQL\n",
        "con.sql(\"SELECT * FROM 'cities.parquet'\")"
      ]
    },
    {
      "cell_type": "code",
      "execution_count": null,
      "metadata": {
        "id": "XB3U3tGQdVRR"
      },
      "outputs": [],
      "source": [
        "# call read_parquet from within SQL\n",
        "con.sql(\"SELECT * FROM read_parquet('cities.parquet')\")"
      ]
    },
    {
      "cell_type": "markdown",
      "metadata": {
        "id": "yCe2N9eYdVRR"
      },
      "source": [
        "## GeoJSON Files"
      ]
    },
    {
      "cell_type": "code",
      "execution_count": null,
      "metadata": {
        "id": "qL07gNordVRR"
      },
      "outputs": [],
      "source": [
        "con.sql('SELECT * FROM ST_Drivers()')"
      ]
    },
    {
      "cell_type": "code",
      "execution_count": null,
      "metadata": {
        "id": "eQ69rVFgdVRR"
      },
      "outputs": [],
      "source": [
        "con.sql(\"SELECT * FROM ST_Read('cities.geojson')\")"
      ]
    },
    {
      "cell_type": "code",
      "execution_count": null,
      "metadata": {
        "id": "hjVkubZzdVRR"
      },
      "outputs": [],
      "source": [
        "con.sql(\"FROM ST_Read('cities.geojson')\")"
      ]
    },
    {
      "cell_type": "code",
      "execution_count": null,
      "metadata": {
        "id": "AcnKL9rWdVRR"
      },
      "outputs": [],
      "source": [
        "con.sql(\"CREATE TABLE cities AS SELECT * FROM ST_Read('cities.geojson')\")"
      ]
    },
    {
      "cell_type": "code",
      "execution_count": null,
      "metadata": {
        "id": "5uHsrfugdVRR"
      },
      "outputs": [],
      "source": [
        "con.table('cities')"
      ]
    },
    {
      "cell_type": "code",
      "execution_count": null,
      "metadata": {
        "id": "Y9gV0mjsdVRR"
      },
      "outputs": [],
      "source": [
        "con.sql(\"SELECT * FROM cities\")"
      ]
    },
    {
      "cell_type": "markdown",
      "metadata": {
        "id": "BzMhmMfddVRR"
      },
      "source": [
        "## Shapefiles"
      ]
    },
    {
      "cell_type": "code",
      "execution_count": null,
      "metadata": {
        "id": "Nr25Rb9fdVRR"
      },
      "outputs": [],
      "source": [
        "con.sql(\"SELECT * FROM ST_Read('cities.shp')\")"
      ]
    },
    {
      "cell_type": "code",
      "execution_count": null,
      "metadata": {
        "id": "ImJc4t0jdVRR"
      },
      "outputs": [],
      "source": [
        "con.sql(\"FROM ST_Read('cities.shp')\")"
      ]
    },
    {
      "cell_type": "code",
      "execution_count": null,
      "metadata": {
        "id": "0r1DcwKbdVRR"
      },
      "outputs": [],
      "source": [
        "con.sql(\n",
        "    \"\"\"\n",
        "        CREATE TABLE IF NOT EXISTS cities2 AS\n",
        "        SELECT * FROM ST_Read('cities.shp')\n",
        "        \"\"\"\n",
        ")"
      ]
    },
    {
      "cell_type": "code",
      "execution_count": null,
      "metadata": {
        "id": "1055MpgxdVRR"
      },
      "outputs": [],
      "source": [
        "con.table('cities2')"
      ]
    },
    {
      "cell_type": "code",
      "execution_count": null,
      "metadata": {
        "id": "oBG46ZKWdVRW"
      },
      "outputs": [],
      "source": [
        "con.sql('SELECT * FROM cities2')"
      ]
    },
    {
      "cell_type": "markdown",
      "metadata": {
        "id": "jbt58GsQdVRW"
      },
      "source": [
        "## GeoParquet Files"
      ]
    },
    {
      "cell_type": "code",
      "execution_count": null,
      "metadata": {
        "id": "Co9MeFu7dVRW"
      },
      "outputs": [],
      "source": [
        "con.sql(\"SELECT * FROM 'cities.parquet'\")"
      ]
    },
    {
      "cell_type": "code",
      "execution_count": null,
      "metadata": {
        "id": "_Ijv8KYfdVRW"
      },
      "outputs": [],
      "source": [
        "con.sql(\n",
        "    \"\"\"\n",
        "CREATE TABLE IF NOT EXISTS cities3 AS\n",
        "SELECT * EXCLUDE geometry, ST_GeomFromWKB(geometry)\n",
        "AS geometry FROM 'cities.parquet'\n",
        "\"\"\"\n",
        ")"
      ]
    },
    {
      "cell_type": "code",
      "execution_count": null,
      "metadata": {
        "id": "98yzrqZIdVRW"
      },
      "outputs": [],
      "source": [
        "con.table('cities3')"
      ]
    },
    {
      "cell_type": "code",
      "execution_count": null,
      "metadata": {
        "id": "b5UwNSn4dVRW"
      },
      "outputs": [],
      "source": [
        "con.sql(\n",
        "    \"\"\"\n",
        "CREATE TABLE IF NOT EXISTS country AS\n",
        "SELECT * EXCLUDE geometry, ST_GeomFromWKB(geometry) FROM\n",
        "        's3://us-west-2.opendata.source.coop/google-research-open-buildings/v2/geoparquet-admin1/country=SSD/*.parquet'\n",
        "\"\"\"\n",
        ")"
      ]
    },
    {
      "cell_type": "code",
      "execution_count": null,
      "metadata": {
        "id": "RVlrDDowdVRW"
      },
      "outputs": [],
      "source": [
        "con.table('country')"
      ]
    },
    {
      "cell_type": "code",
      "execution_count": null,
      "metadata": {
        "id": "zABiHB1TdVRX"
      },
      "outputs": [],
      "source": [
        "con.sql('SELECT COUNT(*) FROM country')"
      ]
    },
    {
      "cell_type": "markdown",
      "metadata": {
        "id": "HfHgn1F3dVRX"
      },
      "source": [
        "## References\n",
        "\n",
        "- [DuckDB Data Ingestion](https://duckdb.org/docs/api/python/data_ingestion)"
      ]
    }
  ],
  "metadata": {
    "kernelspec": {
      "display_name": "geo",
      "language": "python",
      "name": "python3"
    },
    "language_info": {
      "codemirror_mode": {
        "name": "ipython",
        "version": 3
      },
      "file_extension": ".py",
      "mimetype": "text/x-python",
      "name": "python",
      "nbconvert_exporter": "python",
      "pygments_lexer": "ipython3",
      "version": "3.11.5"
    },
    "colab": {
      "provenance": [],
      "include_colab_link": true
    }
  },
  "nbformat": 4,
  "nbformat_minor": 0
}